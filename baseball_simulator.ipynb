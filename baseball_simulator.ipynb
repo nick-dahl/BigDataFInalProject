{
 "cells": [
  {
   "cell_type": "markdown",
   "id": "674b5294-b35b-42f6-a8e0-5d7696012a5c",
   "metadata": {},
   "source": [
    "## Important Links"
   ]
  },
  {
   "cell_type": "markdown",
   "id": "4655790a-b23b-4b03-8d16-1232dffa3b23",
   "metadata": {},
   "source": [
    "* https://www.retrosheet.org/game.htm - RetroSheet home page for data querying\n",
    "* https://www.retrosheet.org/datause.txt - How to use RetroSheet Event Files\n",
    "* https://www.baseball-reference.com/about/coverage.shtml#all_pbp - Baseball Reference play-by-play coverage availability\n",
    "* https://github.com/benryan03/Baseball-Simulator - Ben Ryan pitch simulator GitHub"
   ]
  },
  {
   "cell_type": "code",
   "execution_count": null,
   "id": "a7510dbf-7019-4e89-b42a-3bacf0e17af6",
   "metadata": {},
   "outputs": [],
   "source": [
    "%load_ext autoreload\n",
    "%autoreload 2\n",
    "from pybaseball import statcast, pitching_stats\n",
    "import datetime as dt\n",
    "import warnings\n",
    "warnings.filterwarnings('ignore')\n",
    "import numpy as np\n",
    "import pandas as pd\n",
    "from collections import Counter\n",
    "from sklearn.preprocessing import StandardScaler, MinMaxScaler, OneHotEncoder\n",
    "from sklearn.decomposition import PCA\n",
    "from sklearn.cluster import KMeans\n",
    "from sklearn.model_selection import train_test_split, GridSearchCV\n",
    "from sklearn.metrics import accuracy_score, confusion_matrix\n",
    "from xgboost import XGBClassifier\n",
    "import matplotlib.pyplot as plt\n",
    "from matplotlib import patches\n",
    "%matplotlib inline\n",
    "\n",
    "# use Statcast data (from 2015-2018) so we can get spin rate, etc.\n",
    "train_data_dates = [('2015-04-05', '2015-10-04')]#,      # 2015 data\n",
    "#                     ('2016-04-03', '2016-10-02'),       # 2016 data\n",
    "#                     ('2017-04-02', '2017-10-01'),       # 2017 data\n",
    "#                     ('2018-03-29', '2018-10-01')]       # 2018 data"
   ]
  },
  {
   "cell_type": "code",
   "execution_count": null,
   "id": "4c1fd13d-7dfc-4bde-8ed8-cb951e6164da",
   "metadata": {},
   "outputs": [],
   "source": [
    "raw_data = statcast(start_dt=train_data_dates[0][0], end_dt=train_data_dates[0][1], verbose=0)\n",
    "print(raw_data.shape)\n",
    "raw_data.head()"
   ]
  },
  {
   "cell_type": "code",
   "execution_count": null,
   "id": "72273638-924c-49e3-a22d-9a3351191779",
   "metadata": {},
   "outputs": [],
   "source": [
    "outcome = ['pitch_type']\n",
    "\n",
    "id_columns = ['game_pk', 'pitcher', 'batter']\n",
    "\n",
    "situation_features = ['stand', 'p_throws', 'inning', 'balls', 'strikes', \n",
    "                      'on_1b', 'on_2b', 'on_3b', 'outs_when_up', 'pitch_number', \n",
    "                      'fld_score', 'bat_score']\n",
    "\n",
    "prev_pitch_features = ['type', 'pfx_x', 'pfx_z', 'plate_x', 'plate_z', 'release_speed', 'release_spin_rate']\n",
    "\n",
    "data = raw_data[outcome + id_columns + situation_features + prev_pitch_features]\n",
    "\n",
    "print(data.shape)\n",
    "data.head()"
   ]
  },
  {
   "cell_type": "code",
   "execution_count": null,
   "id": "ed26f048-f0ad-44bd-bdc1-cf693dd461c4",
   "metadata": {},
   "outputs": [],
   "source": [
    "# drop all columns with no pitch type categorization\n",
    "data = data[pd.notnull(data['pitch_type'])]\n",
    "print(data.shape)\n",
    "data.head()"
   ]
  },
  {
   "cell_type": "code",
   "execution_count": null,
   "id": "27490c06-619e-4284-aeab-5f6312227452",
   "metadata": {},
   "outputs": [],
   "source": [
    "# categorize pitch types as \"Fastball\" (1) or \"Off-speed\" (0)\n",
    "fastball_pitches = ['FA', 'FF', 'FT', 'FC', 'FS', 'SI', 'SF']\n",
    "def map_fastballs(x):\n",
    "    if x in fastball_pitches:\n",
    "        return 1\n",
    "    else:\n",
    "        return 0\n",
    "data['pitch_type'] = data['pitch_type'].apply(map_fastballs)\n",
    "\n",
    "data.head()"
   ]
  },
  {
   "cell_type": "code",
   "execution_count": null,
   "id": "fe15049c-cc27-4c51-ab97-9374ca4d2b75",
   "metadata": {},
   "outputs": [],
   "source": [
    "# make sure ID columns are int's\n",
    "for col in id_columns:\n",
    "    data[col] = data[col].astype(int)\n",
    "    \n",
    "# convert innings, balls and strikes to ints\n",
    "for col in ['inning', 'balls', 'strikes', 'outs_when_up', 'pitch_number']:\n",
    "    data[col] = data[col].astype(int)\n",
    "    \n",
    "# if inning > 9, just replace with \"9\"\n",
    "def cap_extra_innings(x):\n",
    "    if x > 9:\n",
    "        return 9\n",
    "    else:\n",
    "        return x\n",
    "data['inning'] = data['inning'].apply(cap_extra_innings)\n",
    "    \n",
    "# make a new id based on game id + pitcher id that we can use for groupby's\n",
    "data['game_pitcher_id'] = data['game_pk'].astype(str) + '_' + data['pitcher'].astype(str)\n",
    "\n",
    "# convert on_1b/on_2b/on_3b to boolean \n",
    "data['on_1b'] = data['on_1b'].apply(lambda x: not np.isnan(x))\n",
    "data['on_2b'] = data['on_2b'].apply(lambda x: not np.isnan(x))\n",
    "data['on_3b'] = data['on_3b'].apply(lambda x: not np.isnan(x))\n",
    "\n",
    "# handedness: does the batter hit from the same side that the pitcher is pitching from\n",
    "data['pitch_bat_same_side'] = data['p_throws'] == data['stand'] \n",
    "data.drop(['p_throws', 'stand'], axis=1, inplace=True)\n",
    "\n",
    "# score differential\n",
    "data['score_diff'] = data['fld_score'] - data['bat_score']\n",
    "data.drop(['fld_score', 'bat_score'], axis=1, inplace=True)\n",
    "\n",
    "data.head()"
   ]
  }
 ],
 "metadata": {
  "kernelspec": {
   "display_name": "Python 3 (ipykernel)",
   "language": "python",
   "name": "python3"
  },
  "language_info": {
   "codemirror_mode": {
    "name": "ipython",
    "version": 3
   },
   "file_extension": ".py",
   "mimetype": "text/x-python",
   "name": "python",
   "nbconvert_exporter": "python",
   "pygments_lexer": "ipython3",
   "version": "3.9.7"
  }
 },
 "nbformat": 4,
 "nbformat_minor": 5
}
