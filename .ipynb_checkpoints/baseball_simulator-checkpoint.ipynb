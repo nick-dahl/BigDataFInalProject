{
 "cells": [
  {
   "cell_type": "code",
   "execution_count": null,
   "id": "a7510dbf-7019-4e89-b42a-3bacf0e17af6",
   "metadata": {},
   "outputs": [],
   "source": [
    "%load_ext autoreload\n",
    "%autoreload 2\n",
    "from pybaseball import statcast, pitching_stats\n",
    "import datetime as dt\n",
    "import warnings\n",
    "warnings.filterwarnings('ignore')\n",
    "import numpy as np\n",
    "import pandas as pd\n",
    "from collections import Counter\n",
    "from sklearn.preprocessing import StandardScaler, MinMaxScaler, OneHotEncoder\n",
    "from sklearn.decomposition import PCA\n",
    "from sklearn.cluster import KMeans\n",
    "from sklearn.model_selection import train_test_split, GridSearchCV\n",
    "from sklearn.metrics import accuracy_score, confusion_matrix\n",
    "from xgboost import XGBClassifier\n",
    "import matplotlib.pyplot as plt\n",
    "from matplotlib import patches\n",
    "%matplotlib inline\n",
    "\n",
    "# use Statcast data (from 2015-2018) so we can get spin rate, etc.\n",
    "train_data_dates = [('2015-04-05', '2015-10-04')]#,      # 2015 data\n",
    "#                     ('2016-04-03', '2016-10-02'),       # 2016 data\n",
    "#                     ('2017-04-02', '2017-10-01'),       # 2017 data\n",
    "#                     ('2018-03-29', '2018-10-01')]       # 2018 data"
   ]
  }
 ],
 "metadata": {
  "kernelspec": {
   "display_name": "Python 3",
   "language": "python",
   "name": "python3"
  },
  "language_info": {
   "name": ""
  }
 },
 "nbformat": 4,
 "nbformat_minor": 5
}
